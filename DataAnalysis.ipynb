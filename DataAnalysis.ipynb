{
  "nbformat": 4,
  "nbformat_minor": 0,
  "metadata": {
    "colab": {
      "provenance": []
    },
    "kernelspec": {
      "name": "python3",
      "display_name": "Python 3"
    },
    "language_info": {
      "name": "python"
    }
  },
  "cells": [
    {
      "cell_type": "markdown",
      "source": [
        "#Python Basics"
      ],
      "metadata": {
        "id": "fGCJ_jLO5IJt"
      }
    },
    {
      "cell_type": "markdown",
      "source": [
        "# **Module-1**"
      ],
      "metadata": {
        "id": "vWhEqm2f6CAO"
      }
    },
    {
      "cell_type": "markdown",
      "source": [
        "1.1 Print and comment\n"
      ],
      "metadata": {
        "id": "ZtTyNXsp8M6R"
      }
    },
    {
      "cell_type": "code",
      "execution_count": null,
      "metadata": {
        "id": "8uWnW5oH5Gud",
        "colab": {
          "base_uri": "https://localhost:8080/"
        },
        "outputId": "03fe677a-8a0c-41b7-9aa4-d576aafec70e"
      },
      "outputs": [
        {
          "output_type": "stream",
          "name": "stdout",
          "text": [
            "Like always, Hello world\n"
          ]
        }
      ],
      "source": [
        "print(\"Like always, Hello world\")"
      ]
    },
    {
      "cell_type": "code",
      "source": [
        "#We use comment by this\n",
        "print(\"Now you know how to comment\")"
      ],
      "metadata": {
        "id": "LoOye61Q6QFN"
      },
      "execution_count": null,
      "outputs": []
    },
    {
      "cell_type": "code",
      "source": [
        "\"\"\"This is huge describtion\n",
        "for multi-line comment we can use this\n",
        "but for shortcut we can write something and use cntrl+ forward slash(/)\n",
        "for Mac command+ forward slash(/) \"\"\"\n",
        "\n",
        "\n",
        "# I am Shadman.\n",
        "# Trying to use multi-line comment\n",
        "# by using the shortcut"
      ],
      "metadata": {
        "id": "E5yHpZWr6aoT"
      },
      "execution_count": null,
      "outputs": []
    },
    {
      "cell_type": "code",
      "source": [
        "#Now we will know about variable, python constants\n",
        "# Difference between them\n",
        "# When and how to use them"
      ],
      "metadata": {
        "id": "8bf95TyE7FA8"
      },
      "execution_count": null,
      "outputs": []
    },
    {
      "cell_type": "markdown",
      "source": [
        "1.2.1 Variables and Constants"
      ],
      "metadata": {
        "id": "Y_6v7FTi8ZsG"
      }
    },
    {
      "cell_type": "code",
      "source": [
        "#we should use all lower case for variable(changable)\n",
        "#camel_case is preferable to splt names\n",
        "#We can't use number for variables\n",
        "\n",
        "x=4\n",
        "y=5\n",
        "print(x+x+y+x+y)\n",
        "\n",
        "#we assign value in constant as uppercase(non-changable)\n",
        "\n",
        "X=5\n",
        "y=1\n",
        "print(X+y)"
      ],
      "metadata": {
        "colab": {
          "base_uri": "https://localhost:8080/"
        },
        "id": "1DU7rdZu8ZJs",
        "outputId": "cbeb7b70-abc1-44bb-8696-5f1f73e4ff11"
      },
      "execution_count": null,
      "outputs": [
        {
          "output_type": "stream",
          "name": "stdout",
          "text": [
            "22\n",
            "6\n"
          ]
        }
      ]
    },
    {
      "cell_type": "markdown",
      "source": [
        "1.2.2 Strings\n"
      ],
      "metadata": {
        "id": "ej5MGMtj9Z9j"
      }
    },
    {
      "cell_type": "code",
      "source": [
        "#Create variable to store info about planet in our solar system\n",
        "planet= \"Venus\" #string have to be stored in quotation mark\n",
        "print(planet)\n",
        "# For storing multi-line the rule is same as multi-comment\n",
        "planet_name=\"\"\"Planet_name:-Venus\n",
        "It is the second largest planet\"\"\"\n",
        "print(planet_name)\n",
        "\n",
        "#Now we will try to understand about data type\n",
        "planet_name_sec=\"Venus\"\n",
        "planet_age='4.6 Billion Years'\n",
        "planet_index=1\n",
        "\n",
        "#Checking type of variables\n",
        "print(type(planet_name_sec))\n",
        "print(type(planet_age))\n",
        "print(type(planet_index)) #Here we can see data type which is stored\n",
        "z=3.2\n",
        "print(type(z))"
      ],
      "metadata": {
        "colab": {
          "base_uri": "https://localhost:8080/"
        },
        "id": "SxFTOXZv9db8",
        "outputId": "5ba7570c-c78a-47c9-a3e6-02a500145166"
      },
      "execution_count": null,
      "outputs": [
        {
          "output_type": "stream",
          "name": "stdout",
          "text": [
            "Venus\n",
            "Planet_name:-Venus\n",
            "It is the second largest planet\n",
            "<class 'str'>\n",
            "<class 'str'>\n",
            "<class 'int'>\n",
            "<class 'float'>\n"
          ]
        }
      ]
    },
    {
      "cell_type": "markdown",
      "source": [
        "**1.2.3 f-strings**"
      ],
      "metadata": {
        "id": "0ZOFDPQZAJ3F"
      }
    },
    {
      "cell_type": "code",
      "source": [
        "print(\"Planet Saturn has 146 Moons\")\n",
        "# In astronomy we find different moons over time\n",
        "# So we have to make it more versatile\n",
        "name_planet=' Saturn'\n",
        "moon_planet=150\n",
        "print(f\"Planet {name_planet} has {moon_planet} Moons\")\n",
        "\n",
        "#So now if I want to change I can change through outside"
      ],
      "metadata": {
        "colab": {
          "base_uri": "https://localhost:8080/"
        },
        "id": "lFYQpWVVAO78",
        "outputId": "79bfcb92-3742-44fe-b202-ceec23601988"
      },
      "execution_count": null,
      "outputs": [
        {
          "output_type": "stream",
          "name": "stdout",
          "text": [
            "Planet Saturn has 146 Moons\n",
            "Planet  Saturn has 150 Moons\n"
          ]
        }
      ]
    },
    {
      "cell_type": "markdown",
      "source": [
        "**String concatination**"
      ],
      "metadata": {
        "id": "i2A65QMjIxgE"
      }
    },
    {
      "cell_type": "code",
      "source": [
        "str_1=\"Earth is the only planet with life.\"\n",
        "str_2=\"Maybe not! :D\"\n",
        "print(str_1+\" \"+str_2) #We need additional task for spacing\n",
        "# With f strings we do not need additional tasks\n",
        "print(f\"{str_1} {str_2}\")"
      ],
      "metadata": {
        "colab": {
          "base_uri": "https://localhost:8080/"
        },
        "id": "wKmFhTo3I4sC",
        "outputId": "17dcba9d-84ba-410b-a832-a3e78fa87955"
      },
      "execution_count": null,
      "outputs": [
        {
          "output_type": "stream",
          "name": "stdout",
          "text": [
            "Earth is the only planet with life. Maybe not! :D\n",
            "Earth is the only planet with life. Maybe not! :D\n"
          ]
        }
      ]
    },
    {
      "cell_type": "markdown",
      "source": [
        "**1.3 Taking User input**"
      ],
      "metadata": {
        "id": "ilpWBcu7KTEy"
      }
    },
    {
      "cell_type": "code",
      "source": [
        "user_name=input(\"Enter your name: \")\n",
        "print(user_name)\n",
        "print(type(user_name))\n",
        "user_fav_num=input(\"Enter your favourite number: \")\n",
        "print(user_fav_num)\n",
        "print(type(user_fav_num))"
      ],
      "metadata": {
        "colab": {
          "base_uri": "https://localhost:8080/"
        },
        "id": "y5jf-ZzrKZbA",
        "outputId": "709136c3-f728-42a3-e895-6024ac0de585"
      },
      "execution_count": null,
      "outputs": [
        {
          "output_type": "stream",
          "name": "stdout",
          "text": [
            "Enter your name: Shadman\n",
            "Shadman\n",
            "<class 'str'>\n",
            "Enter your favourite number: 1\n",
            "1\n",
            "<class 'str'>\n"
          ]
        }
      ]
    },
    {
      "cell_type": "code",
      "source": [
        "# If we take input we can convert it into string\n",
        "#for that we will use this below codes\n",
        "\n",
        "#str(input)--> converting to string\n",
        "#int(input)--> converting to integer\n",
        "#float(input)--> converting to float\n",
        "\n",
        "#It won't change the data just change it's data type\n",
        "\n",
        "int_to_float= float(user_fav_num)\n",
        "print(int_to_float)"
      ],
      "metadata": {
        "colab": {
          "base_uri": "https://localhost:8080/"
        },
        "id": "CA25WUmPMNED",
        "outputId": "e6285e20-ef76-4c44-82bb-334a7b29e9ab"
      },
      "execution_count": null,
      "outputs": [
        {
          "output_type": "stream",
          "name": "stdout",
          "text": [
            "1.0\n"
          ]
        }
      ]
    },
    {
      "cell_type": "code",
      "source": [
        "#Get user input of two different integers and add them up\n",
        "n1=int(input(\"Enter first number: \"))\n",
        "n2=int(input(\"Enter second number: \"))\n",
        "print(f\"The sum of {n1} and {n2} is {n1+n2}\")"
      ],
      "metadata": {
        "colab": {
          "base_uri": "https://localhost:8080/"
        },
        "id": "2aFGAuCWNKl5",
        "outputId": "80caac6b-1bf9-406c-a092-7f82071b82a4"
      },
      "execution_count": null,
      "outputs": [
        {
          "output_type": "stream",
          "name": "stdout",
          "text": [
            "Enter first number: 5\n",
            "Enter second number: 5\n",
            "The sum of 5 and 5 is 10\n"
          ]
        }
      ]
    },
    {
      "cell_type": "markdown",
      "source": [
        "**1.4 Control flow**\n"
      ],
      "metadata": {
        "id": "t3tnKurcNzkJ"
      }
    },
    {
      "cell_type": "code",
      "source": [
        "# Here we will learn about loops- for, while\n",
        "# Conditional Statements- if, elif, else\n",
        "# And more\n",
        "\n",
        "for index in [0,1,2,3,4]:\n",
        "  print(index)\n",
        "\n",
        "\n",
        "for i in range(-5,10):\n",
        "  print(i,end=\" \")\n"
      ],
      "metadata": {
        "colab": {
          "base_uri": "https://localhost:8080/"
        },
        "id": "dxBbglhUN6-G",
        "outputId": "93e973b3-e946-4b37-8ce6-f1dac8629e65"
      },
      "execution_count": null,
      "outputs": [
        {
          "output_type": "stream",
          "name": "stdout",
          "text": [
            "0\n",
            "1\n",
            "2\n",
            "3\n",
            "4\n",
            "-5 -4 -3 -2 -1 0 1 2 3 4 5 6 7 8 9 "
          ]
        }
      ]
    },
    {
      "cell_type": "code",
      "source": [
        "#while loop( forever loop)\n",
        "ct=0\n",
        "print(\"<--type quit to exit-->\")\n",
        "while True:\n",
        "  obj=input(f\"Enter your favourite Celestial Object {ct+1} \")\n",
        "  #we can use f-stringn in this way\n",
        "  ct+=1\n",
        "  if obj.lower() =='quit': # condition statement\n",
        "    break\n"
      ],
      "metadata": {
        "colab": {
          "base_uri": "https://localhost:8080/"
        },
        "id": "UhZ3QwubUKHf",
        "outputId": "ac54f2fc-b96c-4073-ef71-329cd8d04d62"
      },
      "execution_count": null,
      "outputs": [
        {
          "name": "stdout",
          "output_type": "stream",
          "text": [
            "<--type quit to exit-->\n",
            "Enter your favourite Celestial Object 1 Quit\n"
          ]
        }
      ]
    },
    {
      "cell_type": "code",
      "source": [
        "# Convert any string to lower case\n",
        "str_demo='Upper Case'\n",
        "print(str_demo)\n",
        "print(str_demo.lower())"
      ],
      "metadata": {
        "colab": {
          "base_uri": "https://localhost:8080/"
        },
        "id": "8OFNHXsHWVKD",
        "outputId": "8a7140bf-6ad6-4a46-d367-39e8bcd89941"
      },
      "execution_count": null,
      "outputs": [
        {
          "output_type": "stream",
          "name": "stdout",
          "text": [
            "Upper Case\n",
            "upper case\n"
          ]
        }
      ]
    },
    {
      "cell_type": "markdown",
      "source": [
        "###1.5 Functions###\n",
        "* Need of funtion in programming\n",
        "* How to create one in Python\n",
        "* How to call functions\n",
        "* Create a Basic calculator using function"
      ],
      "metadata": {
        "id": "nvBGlC8hW7Cy"
      }
    },
    {
      "cell_type": "code",
      "source": [
        "#Creating a function called greet\n",
        "def greet():\n",
        "  print(\"Hey Astrophiles\")\n"
      ],
      "metadata": {
        "id": "guq2HOG5XTE7"
      },
      "execution_count": null,
      "outputs": []
    },
    {
      "cell_type": "code",
      "source": [
        "#calling the function\n",
        "greet()"
      ],
      "metadata": {
        "colab": {
          "base_uri": "https://localhost:8080/"
        },
        "id": "H80WfHf3b2Jd",
        "outputId": "f590dd4a-74f7-48d4-c33f-b749f12bcf99"
      },
      "execution_count": null,
      "outputs": [
        {
          "output_type": "stream",
          "name": "stdout",
          "text": [
            "Hey Astrophiles\n"
          ]
        }
      ]
    },
    {
      "cell_type": "code",
      "source": [
        "#creating a function to greet whose name will be taken as input\n",
        "def greet_person(name):\n",
        "  print(f\"Hey {name}, I hope you are enjoying learning with me!\")"
      ],
      "metadata": {
        "id": "FfO-kqjZcTZ3"
      },
      "execution_count": null,
      "outputs": []
    },
    {
      "cell_type": "code",
      "source": [
        "#Calling the function\n",
        "greet_person('everyone')"
      ],
      "metadata": {
        "colab": {
          "base_uri": "https://localhost:8080/"
        },
        "id": "Y8OPyXVLcaOo",
        "outputId": "22bab97d-f6ee-40aa-9ec8-dccf83b91888"
      },
      "execution_count": null,
      "outputs": [
        {
          "output_type": "stream",
          "name": "stdout",
          "text": [
            "Hey everyone, I hope you are enjoying learning with me!\n"
          ]
        }
      ]
    },
    {
      "cell_type": "code",
      "source": [
        "#Positional arguments\n",
        "\n",
        "def greeting(name,msg):\n",
        "  print(f\"Hey {name}, {msg}\")\n"
      ],
      "metadata": {
        "id": "oTitRlWkdE5J"
      },
      "execution_count": null,
      "outputs": []
    },
    {
      "cell_type": "code",
      "source": [
        "#calling the function\n",
        "greeting(\"Shadman\",\"Are you an Astrophile?\")\n",
        "#If we revert the position it will make no sense\n",
        "#output will be like:\n",
        "# Are you an Astrophile?, Shadman\n",
        "# This type of function is called positional arguments"
      ],
      "metadata": {
        "colab": {
          "base_uri": "https://localhost:8080/"
        },
        "id": "0YsJ7qyQdnr3",
        "outputId": "b4597164-88f3-4f5a-cb44-a26f7ccd8382"
      },
      "execution_count": null,
      "outputs": [
        {
          "output_type": "stream",
          "name": "stdout",
          "text": [
            "Hey Shadman, Are you an Astrophile?\n"
          ]
        }
      ]
    },
    {
      "cell_type": "code",
      "source": [
        "#Key word arguments\n",
        "def greeting(name,msg):\n",
        "  print(f\"Hey!{name}, {msg}\")"
      ],
      "metadata": {
        "id": "m36IRxOYeTwH"
      },
      "execution_count": null,
      "outputs": []
    },
    {
      "cell_type": "code",
      "source": [
        "greeting(msg=\"Are you an Astrophile?\",name=\"Shadman\") #here we defined argument\n",
        "# Here python will understand their positional changes"
      ],
      "metadata": {
        "colab": {
          "base_uri": "https://localhost:8080/"
        },
        "id": "V0RRDRm9ekq7",
        "outputId": "0ab79fbd-33df-4a6e-e368-d9dc16bb5dd9"
      },
      "execution_count": null,
      "outputs": [
        {
          "output_type": "stream",
          "name": "stdout",
          "text": [
            "Hey Shadman, Are you an Astrophile?\n"
          ]
        }
      ]
    },
    {
      "cell_type": "code",
      "source": [
        "# We can make an argument defined like\n",
        "\n",
        "def greeting_with_default_args(name,msg=\"Welcome bro!\"):\n",
        "  print(f\"Hey {name}, {msg}\")\n",
        "\n",
        "greeting_with_default_args(\"Shadman\")\n",
        "# Here we only passed one argument and other was set to default"
      ],
      "metadata": {
        "colab": {
          "base_uri": "https://localhost:8080/"
        },
        "id": "RexMY_8-fHWN",
        "outputId": "0e93eaee-6522-4f5a-947f-1ba7daf30cac"
      },
      "execution_count": null,
      "outputs": [
        {
          "output_type": "stream",
          "name": "stdout",
          "text": [
            "Hey Shadman, Welcome bro!\n"
          ]
        }
      ]
    },
    {
      "cell_type": "code",
      "source": [
        "#Create a function for making a basic calculator\n",
        "\n",
        "def basic_calc(n1,n2,operation):\n",
        "  if operation.lower()=='add':\n",
        "    return n1+n2\n",
        "  elif operation.lower()=='minus':\n",
        "    if n1>n2:\n",
        "      return n1-n2\n",
        "    else:\n",
        "      return n2-n1\n",
        "\n",
        "  elif operation.lower()=='multiply':\n",
        "    return n1*n2\n",
        "  elif operation.lower()=='divide':\n",
        "    return n1/n2\n",
        "  else:\n",
        "    print(f\" for gettinf result in operation write add,minus,multiply,divide\")\n",
        "\n",
        "basic_calc(2,5,'multiply')"
      ],
      "metadata": {
        "colab": {
          "base_uri": "https://localhost:8080/"
        },
        "id": "joXHWMOQgRb9",
        "outputId": "bfa8731f-9dd0-4b87-c498-7d8b03dcef47"
      },
      "execution_count": null,
      "outputs": [
        {
          "output_type": "execute_result",
          "data": {
            "text/plain": [
              "10"
            ]
          },
          "metadata": {},
          "execution_count": 67
        }
      ]
    },
    {
      "cell_type": "markdown",
      "source": [
        "# **Module 2**"
      ],
      "metadata": {
        "id": "DwgbsQ9niEAS"
      }
    },
    {
      "cell_type": "markdown",
      "source": [
        "**Here we are going to learn about**\n",
        "\n",
        "* Visualizing a tabular data using matplotlib and seaborn\n",
        "* Bar Graph\n",
        "* Box plot\n",
        "* Line plot\n",
        "* Pair plot\n",
        "* Scatter plot\n",
        "* Saving the output\n"
      ],
      "metadata": {
        "id": "ZHgu8AnkiNwL"
      }
    },
    {
      "cell_type": "markdown",
      "source": [
        "**2.1 Reading CSV file with the help of pandas**"
      ],
      "metadata": {
        "id": "kYsMlAUmzUyc"
      }
    },
    {
      "cell_type": "code",
      "source": [
        "# Importing libraries\n",
        "\n",
        "import os #creating library for storing, file handling, working with directories\n",
        "import pandas as pd # data manipulation, visualization excel, CSV or excel data\n",
        "import numpy as np # storing data in an array\n",
        "import seaborn as sns\n",
        "import matplotlib.pyplot as plt #for visualization\n"
      ],
      "metadata": {
        "id": "JKiGiCEwi3Ew"
      },
      "execution_count": null,
      "outputs": []
    },
    {
      "cell_type": "code",
      "source": [
        "# Peek into the data by creating pandas dataframe\n",
        "\n",
        "star_df=pd.read_csv('/content/cleaned_star_data.csv')"
      ],
      "metadata": {
        "id": "DdypEoF9u3DC"
      },
      "execution_count": null,
      "outputs": []
    },
    {
      "cell_type": "code",
      "source": [
        "star_df.head(3)\n"
      ],
      "metadata": {
        "colab": {
          "base_uri": "https://localhost:8080/",
          "height": 176
        },
        "id": "tMCSSxVxrLHW",
        "outputId": "5d54ec9d-2a87-4501-f6e1-12b2da3d4d3c"
      },
      "execution_count": null,
      "outputs": [
        {
          "output_type": "execute_result",
          "data": {
            "text/plain": [
              "   Temperature (K)  Luminosity(L/Lo)  Radius(R/Ro)  Absolute magnitude(Mv)  \\\n",
              "0             3068            0.0024        0.1700                   16.12   \n",
              "1             3042            0.0005        0.1542                   16.60   \n",
              "2             2600            0.0003        0.1020                   18.70   \n",
              "\n",
              "   Star type Star color Spectral Class  \n",
              "0          0        Red              M  \n",
              "1          0        Red              M  \n",
              "2          0        Red              M  "
            ],
            "text/html": [
              "\n",
              "  <div id=\"df-0f8da4ab-fc68-444c-b671-f7145c41bc47\" class=\"colab-df-container\">\n",
              "    <div>\n",
              "<style scoped>\n",
              "    .dataframe tbody tr th:only-of-type {\n",
              "        vertical-align: middle;\n",
              "    }\n",
              "\n",
              "    .dataframe tbody tr th {\n",
              "        vertical-align: top;\n",
              "    }\n",
              "\n",
              "    .dataframe thead th {\n",
              "        text-align: right;\n",
              "    }\n",
              "</style>\n",
              "<table border=\"1\" class=\"dataframe\">\n",
              "  <thead>\n",
              "    <tr style=\"text-align: right;\">\n",
              "      <th></th>\n",
              "      <th>Temperature (K)</th>\n",
              "      <th>Luminosity(L/Lo)</th>\n",
              "      <th>Radius(R/Ro)</th>\n",
              "      <th>Absolute magnitude(Mv)</th>\n",
              "      <th>Star type</th>\n",
              "      <th>Star color</th>\n",
              "      <th>Spectral Class</th>\n",
              "    </tr>\n",
              "  </thead>\n",
              "  <tbody>\n",
              "    <tr>\n",
              "      <th>0</th>\n",
              "      <td>3068</td>\n",
              "      <td>0.0024</td>\n",
              "      <td>0.1700</td>\n",
              "      <td>16.12</td>\n",
              "      <td>0</td>\n",
              "      <td>Red</td>\n",
              "      <td>M</td>\n",
              "    </tr>\n",
              "    <tr>\n",
              "      <th>1</th>\n",
              "      <td>3042</td>\n",
              "      <td>0.0005</td>\n",
              "      <td>0.1542</td>\n",
              "      <td>16.60</td>\n",
              "      <td>0</td>\n",
              "      <td>Red</td>\n",
              "      <td>M</td>\n",
              "    </tr>\n",
              "    <tr>\n",
              "      <th>2</th>\n",
              "      <td>2600</td>\n",
              "      <td>0.0003</td>\n",
              "      <td>0.1020</td>\n",
              "      <td>18.70</td>\n",
              "      <td>0</td>\n",
              "      <td>Red</td>\n",
              "      <td>M</td>\n",
              "    </tr>\n",
              "  </tbody>\n",
              "</table>\n",
              "</div>\n",
              "    <div class=\"colab-df-buttons\">\n",
              "\n",
              "  <div class=\"colab-df-container\">\n",
              "    <button class=\"colab-df-convert\" onclick=\"convertToInteractive('df-0f8da4ab-fc68-444c-b671-f7145c41bc47')\"\n",
              "            title=\"Convert this dataframe to an interactive table.\"\n",
              "            style=\"display:none;\">\n",
              "\n",
              "  <svg xmlns=\"http://www.w3.org/2000/svg\" height=\"24px\" viewBox=\"0 -960 960 960\">\n",
              "    <path d=\"M120-120v-720h720v720H120Zm60-500h600v-160H180v160Zm220 220h160v-160H400v160Zm0 220h160v-160H400v160ZM180-400h160v-160H180v160Zm440 0h160v-160H620v160ZM180-180h160v-160H180v160Zm440 0h160v-160H620v160Z\"/>\n",
              "  </svg>\n",
              "    </button>\n",
              "\n",
              "  <style>\n",
              "    .colab-df-container {\n",
              "      display:flex;\n",
              "      gap: 12px;\n",
              "    }\n",
              "\n",
              "    .colab-df-convert {\n",
              "      background-color: #E8F0FE;\n",
              "      border: none;\n",
              "      border-radius: 50%;\n",
              "      cursor: pointer;\n",
              "      display: none;\n",
              "      fill: #1967D2;\n",
              "      height: 32px;\n",
              "      padding: 0 0 0 0;\n",
              "      width: 32px;\n",
              "    }\n",
              "\n",
              "    .colab-df-convert:hover {\n",
              "      background-color: #E2EBFA;\n",
              "      box-shadow: 0px 1px 2px rgba(60, 64, 67, 0.3), 0px 1px 3px 1px rgba(60, 64, 67, 0.15);\n",
              "      fill: #174EA6;\n",
              "    }\n",
              "\n",
              "    .colab-df-buttons div {\n",
              "      margin-bottom: 4px;\n",
              "    }\n",
              "\n",
              "    [theme=dark] .colab-df-convert {\n",
              "      background-color: #3B4455;\n",
              "      fill: #D2E3FC;\n",
              "    }\n",
              "\n",
              "    [theme=dark] .colab-df-convert:hover {\n",
              "      background-color: #434B5C;\n",
              "      box-shadow: 0px 1px 3px 1px rgba(0, 0, 0, 0.15);\n",
              "      filter: drop-shadow(0px 1px 2px rgba(0, 0, 0, 0.3));\n",
              "      fill: #FFFFFF;\n",
              "    }\n",
              "  </style>\n",
              "\n",
              "    <script>\n",
              "      const buttonEl =\n",
              "        document.querySelector('#df-0f8da4ab-fc68-444c-b671-f7145c41bc47 button.colab-df-convert');\n",
              "      buttonEl.style.display =\n",
              "        google.colab.kernel.accessAllowed ? 'block' : 'none';\n",
              "\n",
              "      async function convertToInteractive(key) {\n",
              "        const element = document.querySelector('#df-0f8da4ab-fc68-444c-b671-f7145c41bc47');\n",
              "        const dataTable =\n",
              "          await google.colab.kernel.invokeFunction('convertToInteractive',\n",
              "                                                    [key], {});\n",
              "        if (!dataTable) return;\n",
              "\n",
              "        const docLinkHtml = 'Like what you see? Visit the ' +\n",
              "          '<a target=\"_blank\" href=https://colab.research.google.com/notebooks/data_table.ipynb>data table notebook</a>'\n",
              "          + ' to learn more about interactive tables.';\n",
              "        element.innerHTML = '';\n",
              "        dataTable['output_type'] = 'display_data';\n",
              "        await google.colab.output.renderOutput(dataTable, element);\n",
              "        const docLink = document.createElement('div');\n",
              "        docLink.innerHTML = docLinkHtml;\n",
              "        element.appendChild(docLink);\n",
              "      }\n",
              "    </script>\n",
              "  </div>\n",
              "\n",
              "\n",
              "<div id=\"df-c7ed1243-b8e2-4339-9a39-ece5e8b66385\">\n",
              "  <button class=\"colab-df-quickchart\" onclick=\"quickchart('df-c7ed1243-b8e2-4339-9a39-ece5e8b66385')\"\n",
              "            title=\"Suggest charts\"\n",
              "            style=\"display:none;\">\n",
              "\n",
              "<svg xmlns=\"http://www.w3.org/2000/svg\" height=\"24px\"viewBox=\"0 0 24 24\"\n",
              "     width=\"24px\">\n",
              "    <g>\n",
              "        <path d=\"M19 3H5c-1.1 0-2 .9-2 2v14c0 1.1.9 2 2 2h14c1.1 0 2-.9 2-2V5c0-1.1-.9-2-2-2zM9 17H7v-7h2v7zm4 0h-2V7h2v10zm4 0h-2v-4h2v4z\"/>\n",
              "    </g>\n",
              "</svg>\n",
              "  </button>\n",
              "\n",
              "<style>\n",
              "  .colab-df-quickchart {\n",
              "      --bg-color: #E8F0FE;\n",
              "      --fill-color: #1967D2;\n",
              "      --hover-bg-color: #E2EBFA;\n",
              "      --hover-fill-color: #174EA6;\n",
              "      --disabled-fill-color: #AAA;\n",
              "      --disabled-bg-color: #DDD;\n",
              "  }\n",
              "\n",
              "  [theme=dark] .colab-df-quickchart {\n",
              "      --bg-color: #3B4455;\n",
              "      --fill-color: #D2E3FC;\n",
              "      --hover-bg-color: #434B5C;\n",
              "      --hover-fill-color: #FFFFFF;\n",
              "      --disabled-bg-color: #3B4455;\n",
              "      --disabled-fill-color: #666;\n",
              "  }\n",
              "\n",
              "  .colab-df-quickchart {\n",
              "    background-color: var(--bg-color);\n",
              "    border: none;\n",
              "    border-radius: 50%;\n",
              "    cursor: pointer;\n",
              "    display: none;\n",
              "    fill: var(--fill-color);\n",
              "    height: 32px;\n",
              "    padding: 0;\n",
              "    width: 32px;\n",
              "  }\n",
              "\n",
              "  .colab-df-quickchart:hover {\n",
              "    background-color: var(--hover-bg-color);\n",
              "    box-shadow: 0 1px 2px rgba(60, 64, 67, 0.3), 0 1px 3px 1px rgba(60, 64, 67, 0.15);\n",
              "    fill: var(--button-hover-fill-color);\n",
              "  }\n",
              "\n",
              "  .colab-df-quickchart-complete:disabled,\n",
              "  .colab-df-quickchart-complete:disabled:hover {\n",
              "    background-color: var(--disabled-bg-color);\n",
              "    fill: var(--disabled-fill-color);\n",
              "    box-shadow: none;\n",
              "  }\n",
              "\n",
              "  .colab-df-spinner {\n",
              "    border: 2px solid var(--fill-color);\n",
              "    border-color: transparent;\n",
              "    border-bottom-color: var(--fill-color);\n",
              "    animation:\n",
              "      spin 1s steps(1) infinite;\n",
              "  }\n",
              "\n",
              "  @keyframes spin {\n",
              "    0% {\n",
              "      border-color: transparent;\n",
              "      border-bottom-color: var(--fill-color);\n",
              "      border-left-color: var(--fill-color);\n",
              "    }\n",
              "    20% {\n",
              "      border-color: transparent;\n",
              "      border-left-color: var(--fill-color);\n",
              "      border-top-color: var(--fill-color);\n",
              "    }\n",
              "    30% {\n",
              "      border-color: transparent;\n",
              "      border-left-color: var(--fill-color);\n",
              "      border-top-color: var(--fill-color);\n",
              "      border-right-color: var(--fill-color);\n",
              "    }\n",
              "    40% {\n",
              "      border-color: transparent;\n",
              "      border-right-color: var(--fill-color);\n",
              "      border-top-color: var(--fill-color);\n",
              "    }\n",
              "    60% {\n",
              "      border-color: transparent;\n",
              "      border-right-color: var(--fill-color);\n",
              "    }\n",
              "    80% {\n",
              "      border-color: transparent;\n",
              "      border-right-color: var(--fill-color);\n",
              "      border-bottom-color: var(--fill-color);\n",
              "    }\n",
              "    90% {\n",
              "      border-color: transparent;\n",
              "      border-bottom-color: var(--fill-color);\n",
              "    }\n",
              "  }\n",
              "</style>\n",
              "\n",
              "  <script>\n",
              "    async function quickchart(key) {\n",
              "      const quickchartButtonEl =\n",
              "        document.querySelector('#' + key + ' button');\n",
              "      quickchartButtonEl.disabled = true;  // To prevent multiple clicks.\n",
              "      quickchartButtonEl.classList.add('colab-df-spinner');\n",
              "      try {\n",
              "        const charts = await google.colab.kernel.invokeFunction(\n",
              "            'suggestCharts', [key], {});\n",
              "      } catch (error) {\n",
              "        console.error('Error during call to suggestCharts:', error);\n",
              "      }\n",
              "      quickchartButtonEl.classList.remove('colab-df-spinner');\n",
              "      quickchartButtonEl.classList.add('colab-df-quickchart-complete');\n",
              "    }\n",
              "    (() => {\n",
              "      let quickchartButtonEl =\n",
              "        document.querySelector('#df-c7ed1243-b8e2-4339-9a39-ece5e8b66385 button');\n",
              "      quickchartButtonEl.style.display =\n",
              "        google.colab.kernel.accessAllowed ? 'block' : 'none';\n",
              "    })();\n",
              "  </script>\n",
              "</div>\n",
              "\n",
              "    </div>\n",
              "  </div>\n"
            ],
            "application/vnd.google.colaboratory.intrinsic+json": {
              "type": "dataframe",
              "variable_name": "star_df",
              "summary": "{\n  \"name\": \"star_df\",\n  \"rows\": 240,\n  \"fields\": [\n    {\n      \"column\": \"Temperature (K)\",\n      \"properties\": {\n        \"dtype\": \"number\",\n        \"std\": 9552,\n        \"min\": 1939,\n        \"max\": 40000,\n        \"num_unique_values\": 228,\n        \"samples\": [\n          10930,\n          3345,\n          3600\n        ],\n        \"semantic_type\": \"\",\n        \"description\": \"\"\n      }\n    },\n    {\n      \"column\": \"Luminosity(L/Lo)\",\n      \"properties\": {\n        \"dtype\": \"number\",\n        \"std\": 179432.2449402145,\n        \"min\": 8e-05,\n        \"max\": 849420.0,\n        \"num_unique_values\": 208,\n        \"samples\": [\n          0.000957,\n          0.0018,\n          0.00135\n        ],\n        \"semantic_type\": \"\",\n        \"description\": \"\"\n      }\n    },\n    {\n      \"column\": \"Radius(R/Ro)\",\n      \"properties\": {\n        \"dtype\": \"number\",\n        \"std\": 517.1557634028478,\n        \"min\": 0.0084,\n        \"max\": 1948.5,\n        \"num_unique_values\": 216,\n        \"samples\": [\n          81.0,\n          1423.0,\n          5.92\n        ],\n        \"semantic_type\": \"\",\n        \"description\": \"\"\n      }\n    },\n    {\n      \"column\": \"Absolute magnitude(Mv)\",\n      \"properties\": {\n        \"dtype\": \"number\",\n        \"std\": 10.53251235061617,\n        \"min\": -11.92,\n        \"max\": 20.06,\n        \"num_unique_values\": 228,\n        \"samples\": [\n          -6.224,\n          18.34,\n          16.05\n        ],\n        \"semantic_type\": \"\",\n        \"description\": \"\"\n      }\n    },\n    {\n      \"column\": \"Star type\",\n      \"properties\": {\n        \"dtype\": \"number\",\n        \"std\": 1,\n        \"min\": 0,\n        \"max\": 5,\n        \"num_unique_values\": 6,\n        \"samples\": [\n          0,\n          1,\n          5\n        ],\n        \"semantic_type\": \"\",\n        \"description\": \"\"\n      }\n    },\n    {\n      \"column\": \"Star color\",\n      \"properties\": {\n        \"dtype\": \"category\",\n        \"num_unique_values\": 5,\n        \"samples\": [\n          \"Blue-White\",\n          \"Blue\",\n          \"White\"\n        ],\n        \"semantic_type\": \"\",\n        \"description\": \"\"\n      }\n    },\n    {\n      \"column\": \"Spectral Class\",\n      \"properties\": {\n        \"dtype\": \"category\",\n        \"num_unique_values\": 7,\n        \"samples\": [\n          \"M\",\n          \"B\",\n          \"K\"\n        ],\n        \"semantic_type\": \"\",\n        \"description\": \"\"\n      }\n    }\n  ]\n}"
            }
          },
          "metadata": {},
          "execution_count": 4
        }
      ]
    },
    {
      "cell_type": "code",
      "source": [
        "star_df.sample(10) #random 10 data point in that csv"
      ],
      "metadata": {
        "colab": {
          "base_uri": "https://localhost:8080/",
          "height": 422
        },
        "id": "Hp6g45_3whsE",
        "outputId": "9457b3f9-e091-427b-ddba-0b95cfc8a6a9"
      },
      "execution_count": null,
      "outputs": [
        {
          "output_type": "execute_result",
          "data": {
            "text/plain": [
              "     Temperature (K)  Luminosity(L/Lo)  Radius(R/Ro)  Absolute magnitude(Mv)  \\\n",
              "79              3158           0.00135        0.1610                   13.98   \n",
              "170             3570      320000.00000     1480.0000                   -7.58   \n",
              "165             7282      131000.00000       24.0000                   -7.22   \n",
              "222             9383      342940.00000       98.0000                   -6.98   \n",
              "160            25390      223000.00000       57.0000                   -5.92   \n",
              "221            12749      332520.00000       76.0000                   -7.02   \n",
              "95             11250         672.00000        6.9800                   -2.30   \n",
              "105            14245      231000.00000       42.0000                   -6.12   \n",
              "121             3531           0.00093        0.0976                   19.94   \n",
              "26              8570           0.00081        0.0097                   14.20   \n",
              "\n",
              "     Star type  Star color Spectral Class  \n",
              "79           1         Red              M  \n",
              "170          5         Red              M  \n",
              "165          4        Blue              O  \n",
              "222          4        Blue              O  \n",
              "160          4        Blue              O  \n",
              "221          4        Blue              O  \n",
              "95           3  Blue-White              A  \n",
              "105          4        Blue              O  \n",
              "121          0         Red              M  \n",
              "26           2  Blue-White              A  "
            ],
            "text/html": [
              "\n",
              "  <div id=\"df-9ee34bd9-e1bb-4337-a70c-d645710615d9\" class=\"colab-df-container\">\n",
              "    <div>\n",
              "<style scoped>\n",
              "    .dataframe tbody tr th:only-of-type {\n",
              "        vertical-align: middle;\n",
              "    }\n",
              "\n",
              "    .dataframe tbody tr th {\n",
              "        vertical-align: top;\n",
              "    }\n",
              "\n",
              "    .dataframe thead th {\n",
              "        text-align: right;\n",
              "    }\n",
              "</style>\n",
              "<table border=\"1\" class=\"dataframe\">\n",
              "  <thead>\n",
              "    <tr style=\"text-align: right;\">\n",
              "      <th></th>\n",
              "      <th>Temperature (K)</th>\n",
              "      <th>Luminosity(L/Lo)</th>\n",
              "      <th>Radius(R/Ro)</th>\n",
              "      <th>Absolute magnitude(Mv)</th>\n",
              "      <th>Star type</th>\n",
              "      <th>Star color</th>\n",
              "      <th>Spectral Class</th>\n",
              "    </tr>\n",
              "  </thead>\n",
              "  <tbody>\n",
              "    <tr>\n",
              "      <th>79</th>\n",
              "      <td>3158</td>\n",
              "      <td>0.00135</td>\n",
              "      <td>0.1610</td>\n",
              "      <td>13.98</td>\n",
              "      <td>1</td>\n",
              "      <td>Red</td>\n",
              "      <td>M</td>\n",
              "    </tr>\n",
              "    <tr>\n",
              "      <th>170</th>\n",
              "      <td>3570</td>\n",
              "      <td>320000.00000</td>\n",
              "      <td>1480.0000</td>\n",
              "      <td>-7.58</td>\n",
              "      <td>5</td>\n",
              "      <td>Red</td>\n",
              "      <td>M</td>\n",
              "    </tr>\n",
              "    <tr>\n",
              "      <th>165</th>\n",
              "      <td>7282</td>\n",
              "      <td>131000.00000</td>\n",
              "      <td>24.0000</td>\n",
              "      <td>-7.22</td>\n",
              "      <td>4</td>\n",
              "      <td>Blue</td>\n",
              "      <td>O</td>\n",
              "    </tr>\n",
              "    <tr>\n",
              "      <th>222</th>\n",
              "      <td>9383</td>\n",
              "      <td>342940.00000</td>\n",
              "      <td>98.0000</td>\n",
              "      <td>-6.98</td>\n",
              "      <td>4</td>\n",
              "      <td>Blue</td>\n",
              "      <td>O</td>\n",
              "    </tr>\n",
              "    <tr>\n",
              "      <th>160</th>\n",
              "      <td>25390</td>\n",
              "      <td>223000.00000</td>\n",
              "      <td>57.0000</td>\n",
              "      <td>-5.92</td>\n",
              "      <td>4</td>\n",
              "      <td>Blue</td>\n",
              "      <td>O</td>\n",
              "    </tr>\n",
              "    <tr>\n",
              "      <th>221</th>\n",
              "      <td>12749</td>\n",
              "      <td>332520.00000</td>\n",
              "      <td>76.0000</td>\n",
              "      <td>-7.02</td>\n",
              "      <td>4</td>\n",
              "      <td>Blue</td>\n",
              "      <td>O</td>\n",
              "    </tr>\n",
              "    <tr>\n",
              "      <th>95</th>\n",
              "      <td>11250</td>\n",
              "      <td>672.00000</td>\n",
              "      <td>6.9800</td>\n",
              "      <td>-2.30</td>\n",
              "      <td>3</td>\n",
              "      <td>Blue-White</td>\n",
              "      <td>A</td>\n",
              "    </tr>\n",
              "    <tr>\n",
              "      <th>105</th>\n",
              "      <td>14245</td>\n",
              "      <td>231000.00000</td>\n",
              "      <td>42.0000</td>\n",
              "      <td>-6.12</td>\n",
              "      <td>4</td>\n",
              "      <td>Blue</td>\n",
              "      <td>O</td>\n",
              "    </tr>\n",
              "    <tr>\n",
              "      <th>121</th>\n",
              "      <td>3531</td>\n",
              "      <td>0.00093</td>\n",
              "      <td>0.0976</td>\n",
              "      <td>19.94</td>\n",
              "      <td>0</td>\n",
              "      <td>Red</td>\n",
              "      <td>M</td>\n",
              "    </tr>\n",
              "    <tr>\n",
              "      <th>26</th>\n",
              "      <td>8570</td>\n",
              "      <td>0.00081</td>\n",
              "      <td>0.0097</td>\n",
              "      <td>14.20</td>\n",
              "      <td>2</td>\n",
              "      <td>Blue-White</td>\n",
              "      <td>A</td>\n",
              "    </tr>\n",
              "  </tbody>\n",
              "</table>\n",
              "</div>\n",
              "    <div class=\"colab-df-buttons\">\n",
              "\n",
              "  <div class=\"colab-df-container\">\n",
              "    <button class=\"colab-df-convert\" onclick=\"convertToInteractive('df-9ee34bd9-e1bb-4337-a70c-d645710615d9')\"\n",
              "            title=\"Convert this dataframe to an interactive table.\"\n",
              "            style=\"display:none;\">\n",
              "\n",
              "  <svg xmlns=\"http://www.w3.org/2000/svg\" height=\"24px\" viewBox=\"0 -960 960 960\">\n",
              "    <path d=\"M120-120v-720h720v720H120Zm60-500h600v-160H180v160Zm220 220h160v-160H400v160Zm0 220h160v-160H400v160ZM180-400h160v-160H180v160Zm440 0h160v-160H620v160ZM180-180h160v-160H180v160Zm440 0h160v-160H620v160Z\"/>\n",
              "  </svg>\n",
              "    </button>\n",
              "\n",
              "  <style>\n",
              "    .colab-df-container {\n",
              "      display:flex;\n",
              "      gap: 12px;\n",
              "    }\n",
              "\n",
              "    .colab-df-convert {\n",
              "      background-color: #E8F0FE;\n",
              "      border: none;\n",
              "      border-radius: 50%;\n",
              "      cursor: pointer;\n",
              "      display: none;\n",
              "      fill: #1967D2;\n",
              "      height: 32px;\n",
              "      padding: 0 0 0 0;\n",
              "      width: 32px;\n",
              "    }\n",
              "\n",
              "    .colab-df-convert:hover {\n",
              "      background-color: #E2EBFA;\n",
              "      box-shadow: 0px 1px 2px rgba(60, 64, 67, 0.3), 0px 1px 3px 1px rgba(60, 64, 67, 0.15);\n",
              "      fill: #174EA6;\n",
              "    }\n",
              "\n",
              "    .colab-df-buttons div {\n",
              "      margin-bottom: 4px;\n",
              "    }\n",
              "\n",
              "    [theme=dark] .colab-df-convert {\n",
              "      background-color: #3B4455;\n",
              "      fill: #D2E3FC;\n",
              "    }\n",
              "\n",
              "    [theme=dark] .colab-df-convert:hover {\n",
              "      background-color: #434B5C;\n",
              "      box-shadow: 0px 1px 3px 1px rgba(0, 0, 0, 0.15);\n",
              "      filter: drop-shadow(0px 1px 2px rgba(0, 0, 0, 0.3));\n",
              "      fill: #FFFFFF;\n",
              "    }\n",
              "  </style>\n",
              "\n",
              "    <script>\n",
              "      const buttonEl =\n",
              "        document.querySelector('#df-9ee34bd9-e1bb-4337-a70c-d645710615d9 button.colab-df-convert');\n",
              "      buttonEl.style.display =\n",
              "        google.colab.kernel.accessAllowed ? 'block' : 'none';\n",
              "\n",
              "      async function convertToInteractive(key) {\n",
              "        const element = document.querySelector('#df-9ee34bd9-e1bb-4337-a70c-d645710615d9');\n",
              "        const dataTable =\n",
              "          await google.colab.kernel.invokeFunction('convertToInteractive',\n",
              "                                                    [key], {});\n",
              "        if (!dataTable) return;\n",
              "\n",
              "        const docLinkHtml = 'Like what you see? Visit the ' +\n",
              "          '<a target=\"_blank\" href=https://colab.research.google.com/notebooks/data_table.ipynb>data table notebook</a>'\n",
              "          + ' to learn more about interactive tables.';\n",
              "        element.innerHTML = '';\n",
              "        dataTable['output_type'] = 'display_data';\n",
              "        await google.colab.output.renderOutput(dataTable, element);\n",
              "        const docLink = document.createElement('div');\n",
              "        docLink.innerHTML = docLinkHtml;\n",
              "        element.appendChild(docLink);\n",
              "      }\n",
              "    </script>\n",
              "  </div>\n",
              "\n",
              "\n",
              "<div id=\"df-127a2df1-720e-4091-a86a-53615b682923\">\n",
              "  <button class=\"colab-df-quickchart\" onclick=\"quickchart('df-127a2df1-720e-4091-a86a-53615b682923')\"\n",
              "            title=\"Suggest charts\"\n",
              "            style=\"display:none;\">\n",
              "\n",
              "<svg xmlns=\"http://www.w3.org/2000/svg\" height=\"24px\"viewBox=\"0 0 24 24\"\n",
              "     width=\"24px\">\n",
              "    <g>\n",
              "        <path d=\"M19 3H5c-1.1 0-2 .9-2 2v14c0 1.1.9 2 2 2h14c1.1 0 2-.9 2-2V5c0-1.1-.9-2-2-2zM9 17H7v-7h2v7zm4 0h-2V7h2v10zm4 0h-2v-4h2v4z\"/>\n",
              "    </g>\n",
              "</svg>\n",
              "  </button>\n",
              "\n",
              "<style>\n",
              "  .colab-df-quickchart {\n",
              "      --bg-color: #E8F0FE;\n",
              "      --fill-color: #1967D2;\n",
              "      --hover-bg-color: #E2EBFA;\n",
              "      --hover-fill-color: #174EA6;\n",
              "      --disabled-fill-color: #AAA;\n",
              "      --disabled-bg-color: #DDD;\n",
              "  }\n",
              "\n",
              "  [theme=dark] .colab-df-quickchart {\n",
              "      --bg-color: #3B4455;\n",
              "      --fill-color: #D2E3FC;\n",
              "      --hover-bg-color: #434B5C;\n",
              "      --hover-fill-color: #FFFFFF;\n",
              "      --disabled-bg-color: #3B4455;\n",
              "      --disabled-fill-color: #666;\n",
              "  }\n",
              "\n",
              "  .colab-df-quickchart {\n",
              "    background-color: var(--bg-color);\n",
              "    border: none;\n",
              "    border-radius: 50%;\n",
              "    cursor: pointer;\n",
              "    display: none;\n",
              "    fill: var(--fill-color);\n",
              "    height: 32px;\n",
              "    padding: 0;\n",
              "    width: 32px;\n",
              "  }\n",
              "\n",
              "  .colab-df-quickchart:hover {\n",
              "    background-color: var(--hover-bg-color);\n",
              "    box-shadow: 0 1px 2px rgba(60, 64, 67, 0.3), 0 1px 3px 1px rgba(60, 64, 67, 0.15);\n",
              "    fill: var(--button-hover-fill-color);\n",
              "  }\n",
              "\n",
              "  .colab-df-quickchart-complete:disabled,\n",
              "  .colab-df-quickchart-complete:disabled:hover {\n",
              "    background-color: var(--disabled-bg-color);\n",
              "    fill: var(--disabled-fill-color);\n",
              "    box-shadow: none;\n",
              "  }\n",
              "\n",
              "  .colab-df-spinner {\n",
              "    border: 2px solid var(--fill-color);\n",
              "    border-color: transparent;\n",
              "    border-bottom-color: var(--fill-color);\n",
              "    animation:\n",
              "      spin 1s steps(1) infinite;\n",
              "  }\n",
              "\n",
              "  @keyframes spin {\n",
              "    0% {\n",
              "      border-color: transparent;\n",
              "      border-bottom-color: var(--fill-color);\n",
              "      border-left-color: var(--fill-color);\n",
              "    }\n",
              "    20% {\n",
              "      border-color: transparent;\n",
              "      border-left-color: var(--fill-color);\n",
              "      border-top-color: var(--fill-color);\n",
              "    }\n",
              "    30% {\n",
              "      border-color: transparent;\n",
              "      border-left-color: var(--fill-color);\n",
              "      border-top-color: var(--fill-color);\n",
              "      border-right-color: var(--fill-color);\n",
              "    }\n",
              "    40% {\n",
              "      border-color: transparent;\n",
              "      border-right-color: var(--fill-color);\n",
              "      border-top-color: var(--fill-color);\n",
              "    }\n",
              "    60% {\n",
              "      border-color: transparent;\n",
              "      border-right-color: var(--fill-color);\n",
              "    }\n",
              "    80% {\n",
              "      border-color: transparent;\n",
              "      border-right-color: var(--fill-color);\n",
              "      border-bottom-color: var(--fill-color);\n",
              "    }\n",
              "    90% {\n",
              "      border-color: transparent;\n",
              "      border-bottom-color: var(--fill-color);\n",
              "    }\n",
              "  }\n",
              "</style>\n",
              "\n",
              "  <script>\n",
              "    async function quickchart(key) {\n",
              "      const quickchartButtonEl =\n",
              "        document.querySelector('#' + key + ' button');\n",
              "      quickchartButtonEl.disabled = true;  // To prevent multiple clicks.\n",
              "      quickchartButtonEl.classList.add('colab-df-spinner');\n",
              "      try {\n",
              "        const charts = await google.colab.kernel.invokeFunction(\n",
              "            'suggestCharts', [key], {});\n",
              "      } catch (error) {\n",
              "        console.error('Error during call to suggestCharts:', error);\n",
              "      }\n",
              "      quickchartButtonEl.classList.remove('colab-df-spinner');\n",
              "      quickchartButtonEl.classList.add('colab-df-quickchart-complete');\n",
              "    }\n",
              "    (() => {\n",
              "      let quickchartButtonEl =\n",
              "        document.querySelector('#df-127a2df1-720e-4091-a86a-53615b682923 button');\n",
              "      quickchartButtonEl.style.display =\n",
              "        google.colab.kernel.accessAllowed ? 'block' : 'none';\n",
              "    })();\n",
              "  </script>\n",
              "</div>\n",
              "\n",
              "    </div>\n",
              "  </div>\n"
            ],
            "application/vnd.google.colaboratory.intrinsic+json": {
              "type": "dataframe",
              "summary": "{\n  \"name\": \"star_df\",\n  \"rows\": 10,\n  \"fields\": [\n    {\n      \"column\": \"Temperature (K)\",\n      \"properties\": {\n        \"dtype\": \"number\",\n        \"std\": 6697,\n        \"min\": 3158,\n        \"max\": 25390,\n        \"num_unique_values\": 10,\n        \"samples\": [\n          3531,\n          3570,\n          12749\n        ],\n        \"semantic_type\": \"\",\n        \"description\": \"\"\n      }\n    },\n    {\n      \"column\": \"Luminosity(L/Lo)\",\n      \"properties\": {\n        \"dtype\": \"number\",\n        \"std\": 149380.57454571096,\n        \"min\": 0.00081,\n        \"max\": 342940.0,\n        \"num_unique_values\": 10,\n        \"samples\": [\n          0.00093,\n          320000.0,\n          332520.0\n        ],\n        \"semantic_type\": \"\",\n        \"description\": \"\"\n      }\n    },\n    {\n      \"column\": \"Radius(R/Ro)\",\n      \"properties\": {\n        \"dtype\": \"number\",\n        \"std\": 458.62882066917217,\n        \"min\": 0.0097,\n        \"max\": 1480.0,\n        \"num_unique_values\": 10,\n        \"samples\": [\n          0.0976,\n          1480.0,\n          76.0\n        ],\n        \"semantic_type\": \"\",\n        \"description\": \"\"\n      }\n    },\n    {\n      \"column\": \"Absolute magnitude(Mv)\",\n      \"properties\": {\n        \"dtype\": \"number\",\n        \"std\": 10.942173052511604,\n        \"min\": -7.58,\n        \"max\": 19.94,\n        \"num_unique_values\": 10,\n        \"samples\": [\n          19.94,\n          -7.58,\n          -7.02\n        ],\n        \"semantic_type\": \"\",\n        \"description\": \"\"\n      }\n    },\n    {\n      \"column\": \"Star type\",\n      \"properties\": {\n        \"dtype\": \"number\",\n        \"std\": 1,\n        \"min\": 0,\n        \"max\": 5,\n        \"num_unique_values\": 6,\n        \"samples\": [\n          1,\n          5,\n          2\n        ],\n        \"semantic_type\": \"\",\n        \"description\": \"\"\n      }\n    },\n    {\n      \"column\": \"Star color\",\n      \"properties\": {\n        \"dtype\": \"category\",\n        \"num_unique_values\": 3,\n        \"samples\": [\n          \"Red\",\n          \"Blue\",\n          \"Blue-White\"\n        ],\n        \"semantic_type\": \"\",\n        \"description\": \"\"\n      }\n    },\n    {\n      \"column\": \"Spectral Class\",\n      \"properties\": {\n        \"dtype\": \"category\",\n        \"num_unique_values\": 3,\n        \"samples\": [\n          \"M\",\n          \"O\",\n          \"A\"\n        ],\n        \"semantic_type\": \"\",\n        \"description\": \"\"\n      }\n    }\n  ]\n}"
            }
          },
          "metadata": {},
          "execution_count": 6
        }
      ]
    },
    {
      "cell_type": "code",
      "source": [
        "star_df.info() #checking info of columns\n",
        "\n",
        "#Non null means there is no missing value"
      ],
      "metadata": {
        "colab": {
          "base_uri": "https://localhost:8080/"
        },
        "id": "_rohGbRitDHy",
        "outputId": "0aad1520-fd11-4575-80c1-b19ef704df5a"
      },
      "execution_count": null,
      "outputs": [
        {
          "output_type": "stream",
          "name": "stdout",
          "text": [
            "<class 'pandas.core.frame.DataFrame'>\n",
            "RangeIndex: 240 entries, 0 to 239\n",
            "Data columns (total 7 columns):\n",
            " #   Column                  Non-Null Count  Dtype  \n",
            "---  ------                  --------------  -----  \n",
            " 0   Temperature (K)         240 non-null    int64  \n",
            " 1   Luminosity(L/Lo)        240 non-null    float64\n",
            " 2   Radius(R/Ro)            240 non-null    float64\n",
            " 3   Absolute magnitude(Mv)  240 non-null    float64\n",
            " 4   Star type               240 non-null    int64  \n",
            " 5   Star color              240 non-null    object \n",
            " 6   Spectral Class          240 non-null    object \n",
            "dtypes: float64(3), int64(2), object(2)\n",
            "memory usage: 13.3+ KB\n"
          ]
        }
      ]
    },
    {
      "cell_type": "markdown",
      "source": [
        "**2.2 Making directories for storing out visualizations**"
      ],
      "metadata": {
        "id": "vs3eCQwZzfr0"
      }
    },
    {
      "cell_type": "code",
      "source": [
        "folder_name= 'star_plots'\n",
        "os.makedirs(folder_name,exist_ok=True)\n",
        "base_dir= f'/content/{folder_name}/'\n",
        "# we used f strings over here for making it more dynamic\n",
        "# meaning if folder name is changed it doesn't affects the path\n",
        "# lastly forward slash is given to add files over here"
      ],
      "metadata": {
        "id": "cAXyYMo7w3KC"
      },
      "execution_count": null,
      "outputs": []
    },
    {
      "cell_type": "markdown",
      "source": [
        "**2.3 Using matplotlib libraby we will visualize**"
      ],
      "metadata": {
        "id": "Ab6JWBZGz5px"
      }
    },
    {
      "cell_type": "code",
      "source": [
        "star_df['Star type'] #For accessing column we use third bracket"
      ],
      "metadata": {
        "colab": {
          "base_uri": "https://localhost:8080/",
          "height": 444
        },
        "id": "b6ussMA80PtR",
        "outputId": "bdd7ea06-197f-4b25-b3e5-ffb540d5643f"
      },
      "execution_count": null,
      "outputs": [
        {
          "output_type": "execute_result",
          "data": {
            "text/plain": [
              "0      0\n",
              "1      0\n",
              "2      0\n",
              "3      0\n",
              "4      0\n",
              "      ..\n",
              "235    5\n",
              "236    5\n",
              "237    5\n",
              "238    5\n",
              "239    5\n",
              "Name: Star type, Length: 240, dtype: int64"
            ],
            "text/html": [
              "<div>\n",
              "<style scoped>\n",
              "    .dataframe tbody tr th:only-of-type {\n",
              "        vertical-align: middle;\n",
              "    }\n",
              "\n",
              "    .dataframe tbody tr th {\n",
              "        vertical-align: top;\n",
              "    }\n",
              "\n",
              "    .dataframe thead th {\n",
              "        text-align: right;\n",
              "    }\n",
              "</style>\n",
              "<table border=\"1\" class=\"dataframe\">\n",
              "  <thead>\n",
              "    <tr style=\"text-align: right;\">\n",
              "      <th></th>\n",
              "      <th>Star type</th>\n",
              "    </tr>\n",
              "  </thead>\n",
              "  <tbody>\n",
              "    <tr>\n",
              "      <th>0</th>\n",
              "      <td>0</td>\n",
              "    </tr>\n",
              "    <tr>\n",
              "      <th>1</th>\n",
              "      <td>0</td>\n",
              "    </tr>\n",
              "    <tr>\n",
              "      <th>2</th>\n",
              "      <td>0</td>\n",
              "    </tr>\n",
              "    <tr>\n",
              "      <th>3</th>\n",
              "      <td>0</td>\n",
              "    </tr>\n",
              "    <tr>\n",
              "      <th>4</th>\n",
              "      <td>0</td>\n",
              "    </tr>\n",
              "    <tr>\n",
              "      <th>...</th>\n",
              "      <td>...</td>\n",
              "    </tr>\n",
              "    <tr>\n",
              "      <th>235</th>\n",
              "      <td>5</td>\n",
              "    </tr>\n",
              "    <tr>\n",
              "      <th>236</th>\n",
              "      <td>5</td>\n",
              "    </tr>\n",
              "    <tr>\n",
              "      <th>237</th>\n",
              "      <td>5</td>\n",
              "    </tr>\n",
              "    <tr>\n",
              "      <th>238</th>\n",
              "      <td>5</td>\n",
              "    </tr>\n",
              "    <tr>\n",
              "      <th>239</th>\n",
              "      <td>5</td>\n",
              "    </tr>\n",
              "  </tbody>\n",
              "</table>\n",
              "<p>240 rows × 1 columns</p>\n",
              "</div><br><label><b>dtype:</b> int64</label>"
            ]
          },
          "metadata": {},
          "execution_count": 9
        }
      ]
    },
    {
      "cell_type": "code",
      "source": [
        "star_df['Star type'].value_counts() #counting their number\n",
        "\"\"\"Here\n",
        "0-->Brown Dwarf\n",
        "1-->Red Dwarf\n",
        "2-->White Dwarf\n",
        "3-->Main Sequence\n",
        "4-->Supergiants\n",
        "5-->Hypergiants \"\"\""
      ],
      "metadata": {
        "colab": {
          "base_uri": "https://localhost:8080/",
          "height": 50
        },
        "id": "DuhARzHE0cZI",
        "outputId": "1402c4e2-89d1-4494-9d9a-be6a85a4b355"
      },
      "execution_count": null,
      "outputs": [
        {
          "output_type": "execute_result",
          "data": {
            "text/plain": [
              "'Here\\n0-->Brown Dwarf\\n1-->Red Dwarf\\n2-->White Dwarf\\n3-->Main Sequence\\n4-->Supergiants\\n5-->Hypergiants '"
            ],
            "application/vnd.google.colaboratory.intrinsic+json": {
              "type": "string"
            }
          },
          "metadata": {},
          "execution_count": 10
        }
      ]
    },
    {
      "cell_type": "code",
      "source": [
        "star_df['Star type'].value_counts().plot(kind='bar')\n",
        "plt.show() # fow showing our graph\n",
        "#visualizing first barchar"
      ],
      "metadata": {
        "colab": {
          "base_uri": "https://localhost:8080/",
          "height": 443
        },
        "id": "YyIFrYhZ1hSd",
        "outputId": "4f309a05-c9d2-48eb-caca-73f476449405"
      },
      "execution_count": null,
      "outputs": [
        {
          "output_type": "display_data",
          "data": {
            "text/plain": [
              "<Figure size 640x480 with 1 Axes>"
            ],
            "image/png": "[encoded data removed]"
          },
          "metadata": {}
        }
      ]
    },
    {
      "cell_type": "code",
      "source": [
        "#Customizing our bar chart\n",
        "plt.figure(figsize=(4.3,4.3)) # Changing size (x,y)\n",
        "plt.style.use('dark_background')\n",
        "ax=star_df[\"Star type\"].value_counts().plot(kind='bar',color=['brown','red'])\n",
        "ax.bar_label(ax.containers[0],color='white') #writing numbers above every column\n",
        "plt.title('Visualize Star count per star type',color='royalblue',weight='bold')\n",
        "plt.ylabel('Number of stars',color='pink',fontsize=11)\n",
        "plt.yticks(color='tab:pink')\n",
        "plt.xticks(color='orange')\n",
        "plt.xticks(ticks=[0,1,2,3,4,5],\n",
        "           labels =['Brown\\nDwarf','Red\\nDwarf','White\\nDwaf','Main\\nDwarf','Supergiants','Hypergiants'],rotation=45)\n",
        "plt.savefig(base_dir+'barplot_star_count.png')\n",
        "plt.show()"
      ],
      "metadata": {
        "colab": {
          "base_uri": "https://localhost:8080/",
          "height": 489
        },
        "id": "ZXxX4pu31-os",
        "outputId": "02af4ff8-afbc-485b-fb24-c2805e4bae06"
      },
      "execution_count": null,
      "outputs": [
        {
          "output_type": "display_data",
          "data": {
            "text/plain": [
              "<Figure size 430x430 with 1 Axes>"
            ],
            "image/png": "[encoded data removed]"
          },
          "metadata": {}
        }
      ]
    },
    {
      "cell_type": "code",
      "source": [
        "#Visualizing the star color data\n",
        "ax=sns.barplot(x=star_df['Star color'].value_counts().index,\n",
        "            y=star_df['Star color'].value_counts(),palette='viridis')\n",
        "ax.bar_label(ax.containers[0],color='red',weight='bold')\n",
        "ax.bar_label(ax.containers[1],color='red',weight='bold')\n",
        "ax.bar_label(ax.containers[2],color='red',weight='bold')\n",
        "ax.bar_label(ax.containers[3],color='red',weight='bold')\n",
        "ax.bar_label(ax.containers[4],color='red',weight='bold')\n",
        "plt.title(\"Visualizing the count of star colors\",color='royalblue',fontsize=13,weight='bold')\n",
        "plt.xticks(color='orange',rotation=15,fontsize=11)\n",
        "plt.yticks(color='tab:pink')\n",
        "plt.ylabel('Star Count',color='white',fontsize=13)\n",
        "plt.savefig(base_dir+'Star_colors.png')\n",
        "plt.show()"
      ],
      "metadata": {
        "colab": {
          "base_uri": "https://localhost:8080/",
          "height": 598
        },
        "id": "BsJjhBWt8r7-",
        "outputId": "ff420ef7-9ce4-448f-bb3e-3c6320ea1326"
      },
      "execution_count": null,
      "outputs": [
        {
          "output_type": "stream",
          "name": "stderr",
          "text": [
            "<ipython-input-14-4a928d2dd142>:2: FutureWarning: \n",
            "\n",
            "Passing `palette` without assigning `hue` is deprecated and will be removed in v0.14.0. Assign the `x` variable to `hue` and set `legend=False` for the same effect.\n",
            "\n",
            "  ax=sns.barplot(x=star_df['Star color'].value_counts().index,\n"
          ]
        },
        {
          "output_type": "display_data",
          "data": {
            "text/plain": [
              "<Figure size 640x480 with 1 Axes>"
            ],
            "image/png": "[encoded data removed]"
          },
          "metadata": {}
        }
      ]
    },
    {
      "cell_type": "code",
      "source": [
        "#visualizing outlier present in a data set\n",
        "#We will be using box-plot for numeric feature\n",
        "star_df.head()\n",
        "sns.boxplot(x=star_df['Star type'],y=star_df.iloc[:,0]) # : means everything in row\n",
        "# 0 means first column\n",
        "plt.show()"
      ],
      "metadata": {
        "id": "azqso-SgNhmW",
        "colab": {
          "base_uri": "https://localhost:8080/",
          "height": 449
        },
        "outputId": "852106ff-a87a-43a3-ce1f-4724e9e043cc"
      },
      "execution_count": null,
      "outputs": [
        {
          "output_type": "display_data",
          "data": {
            "text/plain": [
              "<Figure size 640x480 with 1 Axes>"
            ],
            "image/png": "[encoded data removed]"
          },
          "metadata": {}
        }
      ]
    },
    {
      "cell_type": "code",
      "source": [
        "#Now we want to do 4 different plot in 1 plot using sub plot\n",
        "#subplot(row,column,position)\n",
        "\n",
        "plt.style.use('default')\n",
        "plt.suptitle('Visualizing the outliers in Numeric features of Star Type',\n",
        "             color='black',weight='bold',fontsize=15)\n",
        "plt.figure(figsize=(25,12))\n",
        "for i in range(4):\n",
        "  plt.subplot(1,4,i+1) # subplot start from position 1\n",
        "  sns.boxplot(x=star_df['Star type'],y=star_df.iloc[:,i])\n",
        "  plt.title(star_df.columns[i],color='red')\n",
        "  plt.ylabel('')\n",
        "plt.savefig(base_dir+'boplot_star_type.png')\n",
        "\n"
      ],
      "metadata": {
        "colab": {
          "base_uri": "https://localhost:8080/",
          "height": 348
        },
        "id": "WA4hCeNq9fQa",
        "outputId": "ddb02088-a45d-4600-ad3f-1caa71f33846"
      },
      "execution_count": null,
      "outputs": [
        {
          "output_type": "display_data",
          "data": {
            "text/plain": [
              "<Figure size 640x480 with 0 Axes>"
            ]
          },
          "metadata": {}
        },
        {
          "output_type": "display_data",
          "data": {
            "text/plain": [
              "<Figure size 2500x1200 with 4 Axes>"
            ],
            "image/png": "[encoded data removed]"
          },
          "metadata": {}
        }
      ]
    }
  ]
}